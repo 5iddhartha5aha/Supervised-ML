{
 "cells": [
  {
   "cell_type": "code",
   "execution_count": 1,
   "id": "5eeb1654",
   "metadata": {},
   "outputs": [],
   "source": [
    "import numpy as np\n",
    "import pandas as pd\n",
    "from sklearn.linear_model import LinearRegression\n",
    "from sklearn.metrics import r2_score\n",
    "from sklearn.preprocessing import (StandardScaler, PolynomialFeatures)\n",
    "from scipy.special import (boxcox ,inv_boxcox)\n",
    "from scipy import stats\n",
    "#from sklearn.model_selection import (train_test_split, KFold, cross_val_predict)\n",
    "#from sklearn.linear_model import Lasso, Ridge"
   ]
  },
  {
   "cell_type": "code",
   "execution_count": 2,
   "id": "ab983377",
   "metadata": {},
   "outputs": [],
   "source": [
    "train = pd.read_csv(\"train.csv\")\n",
    "test = pd.read_csv(\"test.csv\")"
   ]
  },
  {
   "cell_type": "code",
   "execution_count": 3,
   "id": "c527d116",
   "metadata": {},
   "outputs": [
    {
     "data": {
      "text/html": [
       "<div>\n",
       "<style scoped>\n",
       "    .dataframe tbody tr th:only-of-type {\n",
       "        vertical-align: middle;\n",
       "    }\n",
       "\n",
       "    .dataframe tbody tr th {\n",
       "        vertical-align: top;\n",
       "    }\n",
       "\n",
       "    .dataframe thead th {\n",
       "        text-align: right;\n",
       "    }\n",
       "</style>\n",
       "<table border=\"1\" class=\"dataframe\">\n",
       "  <thead>\n",
       "    <tr style=\"text-align: right;\">\n",
       "      <th></th>\n",
       "      <th>OverallQual</th>\n",
       "      <th>GrLivArea</th>\n",
       "      <th>GarageCars</th>\n",
       "      <th>GarageArea</th>\n",
       "      <th>TotalBsmtSF</th>\n",
       "      <th>1stFlrSF</th>\n",
       "      <th>FullBath</th>\n",
       "      <th>TotRmsAbvGrd</th>\n",
       "      <th>YearBuilt</th>\n",
       "      <th>YearRemodAdd</th>\n",
       "      <th>SalePrice</th>\n",
       "    </tr>\n",
       "  </thead>\n",
       "  <tbody>\n",
       "    <tr>\n",
       "      <th>0</th>\n",
       "      <td>7</td>\n",
       "      <td>1820</td>\n",
       "      <td>1</td>\n",
       "      <td>240</td>\n",
       "      <td>1026</td>\n",
       "      <td>1133</td>\n",
       "      <td>2</td>\n",
       "      <td>8</td>\n",
       "      <td>1925</td>\n",
       "      <td>1950</td>\n",
       "      <td>184000</td>\n",
       "    </tr>\n",
       "    <tr>\n",
       "      <th>1</th>\n",
       "      <td>7</td>\n",
       "      <td>1646</td>\n",
       "      <td>1</td>\n",
       "      <td>240</td>\n",
       "      <td>918</td>\n",
       "      <td>918</td>\n",
       "      <td>2</td>\n",
       "      <td>7</td>\n",
       "      <td>1941</td>\n",
       "      <td>1950</td>\n",
       "      <td>164000</td>\n",
       "    </tr>\n",
       "    <tr>\n",
       "      <th>2</th>\n",
       "      <td>5</td>\n",
       "      <td>1316</td>\n",
       "      <td>2</td>\n",
       "      <td>484</td>\n",
       "      <td>926</td>\n",
       "      <td>926</td>\n",
       "      <td>1</td>\n",
       "      <td>6</td>\n",
       "      <td>1929</td>\n",
       "      <td>2001</td>\n",
       "      <td>130000</td>\n",
       "    </tr>\n",
       "    <tr>\n",
       "      <th>3</th>\n",
       "      <td>10</td>\n",
       "      <td>2402</td>\n",
       "      <td>3</td>\n",
       "      <td>672</td>\n",
       "      <td>3094</td>\n",
       "      <td>2402</td>\n",
       "      <td>2</td>\n",
       "      <td>10</td>\n",
       "      <td>2008</td>\n",
       "      <td>2008</td>\n",
       "      <td>555000</td>\n",
       "    </tr>\n",
       "    <tr>\n",
       "      <th>4</th>\n",
       "      <td>7</td>\n",
       "      <td>1253</td>\n",
       "      <td>2</td>\n",
       "      <td>402</td>\n",
       "      <td>1237</td>\n",
       "      <td>1253</td>\n",
       "      <td>2</td>\n",
       "      <td>6</td>\n",
       "      <td>1995</td>\n",
       "      <td>1996</td>\n",
       "      <td>176000</td>\n",
       "    </tr>\n",
       "  </tbody>\n",
       "</table>\n",
       "</div>"
      ],
      "text/plain": [
       "   OverallQual  GrLivArea  GarageCars  GarageArea  TotalBsmtSF  1stFlrSF  \\\n",
       "0            7       1820           1         240         1026      1133   \n",
       "1            7       1646           1         240          918       918   \n",
       "2            5       1316           2         484          926       926   \n",
       "3           10       2402           3         672         3094      2402   \n",
       "4            7       1253           2         402         1237      1253   \n",
       "\n",
       "   FullBath  TotRmsAbvGrd  YearBuilt  YearRemodAdd  SalePrice  \n",
       "0         2             8       1925          1950     184000  \n",
       "1         2             7       1941          1950     164000  \n",
       "2         1             6       1929          2001     130000  \n",
       "3         2            10       2008          2008     555000  \n",
       "4         2             6       1995          1996     176000  "
      ]
     },
     "execution_count": 3,
     "metadata": {},
     "output_type": "execute_result"
    }
   ],
   "source": [
    "train.head()"
   ]
  },
  {
   "cell_type": "code",
   "execution_count": 4,
   "id": "2eb2a0a8",
   "metadata": {},
   "outputs": [
    {
     "data": {
      "text/html": [
       "<div>\n",
       "<style scoped>\n",
       "    .dataframe tbody tr th:only-of-type {\n",
       "        vertical-align: middle;\n",
       "    }\n",
       "\n",
       "    .dataframe tbody tr th {\n",
       "        vertical-align: top;\n",
       "    }\n",
       "\n",
       "    .dataframe thead th {\n",
       "        text-align: right;\n",
       "    }\n",
       "</style>\n",
       "<table border=\"1\" class=\"dataframe\">\n",
       "  <thead>\n",
       "    <tr style=\"text-align: right;\">\n",
       "      <th></th>\n",
       "      <th>OverallQual</th>\n",
       "      <th>GrLivArea</th>\n",
       "      <th>GarageCars</th>\n",
       "      <th>GarageArea</th>\n",
       "      <th>TotalBsmtSF</th>\n",
       "      <th>1stFlrSF</th>\n",
       "      <th>FullBath</th>\n",
       "      <th>TotRmsAbvGrd</th>\n",
       "      <th>YearBuilt</th>\n",
       "      <th>YearRemodAdd</th>\n",
       "      <th>SalePrice</th>\n",
       "    </tr>\n",
       "  </thead>\n",
       "  <tbody>\n",
       "    <tr>\n",
       "      <th>0</th>\n",
       "      <td>8</td>\n",
       "      <td>1970</td>\n",
       "      <td>3</td>\n",
       "      <td>753</td>\n",
       "      <td>1085</td>\n",
       "      <td>1120</td>\n",
       "      <td>2</td>\n",
       "      <td>8</td>\n",
       "      <td>2006</td>\n",
       "      <td>2006</td>\n",
       "      <td>281000</td>\n",
       "    </tr>\n",
       "    <tr>\n",
       "      <th>1</th>\n",
       "      <td>6</td>\n",
       "      <td>1632</td>\n",
       "      <td>1</td>\n",
       "      <td>338</td>\n",
       "      <td>1240</td>\n",
       "      <td>1632</td>\n",
       "      <td>2</td>\n",
       "      <td>6</td>\n",
       "      <td>1958</td>\n",
       "      <td>1988</td>\n",
       "      <td>139000</td>\n",
       "    </tr>\n",
       "    <tr>\n",
       "      <th>2</th>\n",
       "      <td>7</td>\n",
       "      <td>1223</td>\n",
       "      <td>2</td>\n",
       "      <td>480</td>\n",
       "      <td>600</td>\n",
       "      <td>520</td>\n",
       "      <td>2</td>\n",
       "      <td>4</td>\n",
       "      <td>2005</td>\n",
       "      <td>2005</td>\n",
       "      <td>147400</td>\n",
       "    </tr>\n",
       "    <tr>\n",
       "      <th>3</th>\n",
       "      <td>5</td>\n",
       "      <td>1559</td>\n",
       "      <td>2</td>\n",
       "      <td>812</td>\n",
       "      <td>1559</td>\n",
       "      <td>1559</td>\n",
       "      <td>1</td>\n",
       "      <td>5</td>\n",
       "      <td>1948</td>\n",
       "      <td>1973</td>\n",
       "      <td>153500</td>\n",
       "    </tr>\n",
       "    <tr>\n",
       "      <th>4</th>\n",
       "      <td>4</td>\n",
       "      <td>630</td>\n",
       "      <td>1</td>\n",
       "      <td>286</td>\n",
       "      <td>630</td>\n",
       "      <td>630</td>\n",
       "      <td>1</td>\n",
       "      <td>3</td>\n",
       "      <td>1970</td>\n",
       "      <td>2002</td>\n",
       "      <td>86000</td>\n",
       "    </tr>\n",
       "  </tbody>\n",
       "</table>\n",
       "</div>"
      ],
      "text/plain": [
       "   OverallQual  GrLivArea  GarageCars  GarageArea  TotalBsmtSF  1stFlrSF  \\\n",
       "0            8       1970           3         753         1085      1120   \n",
       "1            6       1632           1         338         1240      1632   \n",
       "2            7       1223           2         480          600       520   \n",
       "3            5       1559           2         812         1559      1559   \n",
       "4            4        630           1         286          630       630   \n",
       "\n",
       "   FullBath  TotRmsAbvGrd  YearBuilt  YearRemodAdd  SalePrice  \n",
       "0         2             8       2006          2006     281000  \n",
       "1         2             6       1958          1988     139000  \n",
       "2         2             4       2005          2005     147400  \n",
       "3         1             5       1948          1973     153500  \n",
       "4         1             3       1970          2002      86000  "
      ]
     },
     "execution_count": 4,
     "metadata": {},
     "output_type": "execute_result"
    }
   ],
   "source": [
    "test.head()"
   ]
  },
  {
   "cell_type": "code",
   "execution_count": 5,
   "id": "bac64a37",
   "metadata": {},
   "outputs": [],
   "source": [
    "X_train = train.drop(\"SalePrice\", axis = 1)\n",
    "Y_train = train[\"SalePrice\"]"
   ]
  },
  {
   "cell_type": "code",
   "execution_count": 6,
   "id": "f664b2eb",
   "metadata": {},
   "outputs": [],
   "source": [
    "X_test = test.drop(\"SalePrice\", axis = 1)\n",
    "Y_test = test[\"SalePrice\"]"
   ]
  },
  {
   "cell_type": "code",
   "execution_count": 7,
   "id": "d78d5356",
   "metadata": {},
   "outputs": [
    {
     "data": {
      "text/html": [
       "<div>\n",
       "<style scoped>\n",
       "    .dataframe tbody tr th:only-of-type {\n",
       "        vertical-align: middle;\n",
       "    }\n",
       "\n",
       "    .dataframe tbody tr th {\n",
       "        vertical-align: top;\n",
       "    }\n",
       "\n",
       "    .dataframe thead th {\n",
       "        text-align: right;\n",
       "    }\n",
       "</style>\n",
       "<table border=\"1\" class=\"dataframe\">\n",
       "  <thead>\n",
       "    <tr style=\"text-align: right;\">\n",
       "      <th></th>\n",
       "      <th>OverallQual</th>\n",
       "      <th>GrLivArea</th>\n",
       "      <th>GarageCars</th>\n",
       "      <th>GarageArea</th>\n",
       "      <th>TotalBsmtSF</th>\n",
       "      <th>1stFlrSF</th>\n",
       "      <th>FullBath</th>\n",
       "      <th>TotRmsAbvGrd</th>\n",
       "      <th>YearBuilt</th>\n",
       "      <th>YearRemodAdd</th>\n",
       "    </tr>\n",
       "  </thead>\n",
       "  <tbody>\n",
       "    <tr>\n",
       "      <th>0</th>\n",
       "      <td>7</td>\n",
       "      <td>1820</td>\n",
       "      <td>1</td>\n",
       "      <td>240</td>\n",
       "      <td>1026</td>\n",
       "      <td>1133</td>\n",
       "      <td>2</td>\n",
       "      <td>8</td>\n",
       "      <td>1925</td>\n",
       "      <td>1950</td>\n",
       "    </tr>\n",
       "    <tr>\n",
       "      <th>1</th>\n",
       "      <td>7</td>\n",
       "      <td>1646</td>\n",
       "      <td>1</td>\n",
       "      <td>240</td>\n",
       "      <td>918</td>\n",
       "      <td>918</td>\n",
       "      <td>2</td>\n",
       "      <td>7</td>\n",
       "      <td>1941</td>\n",
       "      <td>1950</td>\n",
       "    </tr>\n",
       "    <tr>\n",
       "      <th>2</th>\n",
       "      <td>5</td>\n",
       "      <td>1316</td>\n",
       "      <td>2</td>\n",
       "      <td>484</td>\n",
       "      <td>926</td>\n",
       "      <td>926</td>\n",
       "      <td>1</td>\n",
       "      <td>6</td>\n",
       "      <td>1929</td>\n",
       "      <td>2001</td>\n",
       "    </tr>\n",
       "    <tr>\n",
       "      <th>3</th>\n",
       "      <td>10</td>\n",
       "      <td>2402</td>\n",
       "      <td>3</td>\n",
       "      <td>672</td>\n",
       "      <td>3094</td>\n",
       "      <td>2402</td>\n",
       "      <td>2</td>\n",
       "      <td>10</td>\n",
       "      <td>2008</td>\n",
       "      <td>2008</td>\n",
       "    </tr>\n",
       "    <tr>\n",
       "      <th>4</th>\n",
       "      <td>7</td>\n",
       "      <td>1253</td>\n",
       "      <td>2</td>\n",
       "      <td>402</td>\n",
       "      <td>1237</td>\n",
       "      <td>1253</td>\n",
       "      <td>2</td>\n",
       "      <td>6</td>\n",
       "      <td>1995</td>\n",
       "      <td>1996</td>\n",
       "    </tr>\n",
       "    <tr>\n",
       "      <th>...</th>\n",
       "      <td>...</td>\n",
       "      <td>...</td>\n",
       "      <td>...</td>\n",
       "      <td>...</td>\n",
       "      <td>...</td>\n",
       "      <td>...</td>\n",
       "      <td>...</td>\n",
       "      <td>...</td>\n",
       "      <td>...</td>\n",
       "      <td>...</td>\n",
       "    </tr>\n",
       "    <tr>\n",
       "      <th>1163</th>\n",
       "      <td>6</td>\n",
       "      <td>1400</td>\n",
       "      <td>2</td>\n",
       "      <td>440</td>\n",
       "      <td>672</td>\n",
       "      <td>672</td>\n",
       "      <td>1</td>\n",
       "      <td>6</td>\n",
       "      <td>1978</td>\n",
       "      <td>1978</td>\n",
       "    </tr>\n",
       "    <tr>\n",
       "      <th>1164</th>\n",
       "      <td>7</td>\n",
       "      <td>1472</td>\n",
       "      <td>2</td>\n",
       "      <td>402</td>\n",
       "      <td>384</td>\n",
       "      <td>802</td>\n",
       "      <td>2</td>\n",
       "      <td>7</td>\n",
       "      <td>1991</td>\n",
       "      <td>1992</td>\n",
       "    </tr>\n",
       "    <tr>\n",
       "      <th>1165</th>\n",
       "      <td>5</td>\n",
       "      <td>789</td>\n",
       "      <td>1</td>\n",
       "      <td>250</td>\n",
       "      <td>789</td>\n",
       "      <td>789</td>\n",
       "      <td>1</td>\n",
       "      <td>5</td>\n",
       "      <td>1948</td>\n",
       "      <td>1950</td>\n",
       "    </tr>\n",
       "    <tr>\n",
       "      <th>1166</th>\n",
       "      <td>6</td>\n",
       "      <td>1661</td>\n",
       "      <td>1</td>\n",
       "      <td>377</td>\n",
       "      <td>992</td>\n",
       "      <td>1661</td>\n",
       "      <td>1</td>\n",
       "      <td>8</td>\n",
       "      <td>1955</td>\n",
       "      <td>1996</td>\n",
       "    </tr>\n",
       "    <tr>\n",
       "      <th>1167</th>\n",
       "      <td>7</td>\n",
       "      <td>1442</td>\n",
       "      <td>2</td>\n",
       "      <td>500</td>\n",
       "      <td>1424</td>\n",
       "      <td>1442</td>\n",
       "      <td>2</td>\n",
       "      <td>5</td>\n",
       "      <td>1990</td>\n",
       "      <td>1990</td>\n",
       "    </tr>\n",
       "  </tbody>\n",
       "</table>\n",
       "<p>1168 rows × 10 columns</p>\n",
       "</div>"
      ],
      "text/plain": [
       "      OverallQual  GrLivArea  GarageCars  GarageArea  TotalBsmtSF  1stFlrSF  \\\n",
       "0               7       1820           1         240         1026      1133   \n",
       "1               7       1646           1         240          918       918   \n",
       "2               5       1316           2         484          926       926   \n",
       "3              10       2402           3         672         3094      2402   \n",
       "4               7       1253           2         402         1237      1253   \n",
       "...           ...        ...         ...         ...          ...       ...   \n",
       "1163            6       1400           2         440          672       672   \n",
       "1164            7       1472           2         402          384       802   \n",
       "1165            5        789           1         250          789       789   \n",
       "1166            6       1661           1         377          992      1661   \n",
       "1167            7       1442           2         500         1424      1442   \n",
       "\n",
       "      FullBath  TotRmsAbvGrd  YearBuilt  YearRemodAdd  \n",
       "0            2             8       1925          1950  \n",
       "1            2             7       1941          1950  \n",
       "2            1             6       1929          2001  \n",
       "3            2            10       2008          2008  \n",
       "4            2             6       1995          1996  \n",
       "...        ...           ...        ...           ...  \n",
       "1163         1             6       1978          1978  \n",
       "1164         2             7       1991          1992  \n",
       "1165         1             5       1948          1950  \n",
       "1166         1             8       1955          1996  \n",
       "1167         2             5       1990          1990  \n",
       "\n",
       "[1168 rows x 10 columns]"
      ]
     },
     "execution_count": 7,
     "metadata": {},
     "output_type": "execute_result"
    }
   ],
   "source": [
    "X_train"
   ]
  },
  {
   "cell_type": "code",
   "execution_count": 8,
   "id": "1ab8b330",
   "metadata": {},
   "outputs": [
    {
     "data": {
      "text/plain": [
       "0       184000\n",
       "1       164000\n",
       "2       130000\n",
       "3       555000\n",
       "4       176000\n",
       "         ...  \n",
       "1163    149500\n",
       "1164    160000\n",
       "1165    115000\n",
       "1166    165500\n",
       "1167    180500\n",
       "Name: SalePrice, Length: 1168, dtype: int64"
      ]
     },
     "execution_count": 8,
     "metadata": {},
     "output_type": "execute_result"
    }
   ],
   "source": [
    "Y_train"
   ]
  },
  {
   "cell_type": "code",
   "execution_count": 9,
   "id": "f649d9d0",
   "metadata": {},
   "outputs": [],
   "source": [
    "bc_result = stats.boxcox(Y_train)\n",
    "y_train_bc = bc_result[0]\n",
    "lam = bc_result[1]"
   ]
  },
  {
   "cell_type": "code",
   "execution_count": 10,
   "id": "3d31bfe9",
   "metadata": {},
   "outputs": [
    {
     "data": {
      "text/plain": [
       "array([6.49259219, 6.46437722, 6.40624351, ..., 6.37492596, 6.46662352,\n",
       "       6.48790939])"
      ]
     },
     "execution_count": 10,
     "metadata": {},
     "output_type": "execute_result"
    }
   ],
   "source": [
    "y_train_bc"
   ]
  },
  {
   "cell_type": "code",
   "execution_count": 11,
   "id": "8ee17834",
   "metadata": {},
   "outputs": [
    {
     "data": {
      "image/png": "[encoded data removed]",
      "text/plain": [
       "<Figure size 640x480 with 1 Axes>"
      ]
     },
     "metadata": {},
     "output_type": "display_data"
    }
   ],
   "source": [
    "Y_train.hist();"
   ]
  },
  {
   "cell_type": "code",
   "execution_count": 12,
   "id": "5dcf9d70",
   "metadata": {},
   "outputs": [
    {
     "data": {
      "image/png": "[encoded data removed]",
      "text/plain": [
       "<Figure size 640x480 with 1 Axes>"
      ]
     },
     "metadata": {},
     "output_type": "display_data"
    }
   ],
   "source": [
    "pd.DataFrame(y_train_bc).hist();"
   ]
  },
  {
   "cell_type": "code",
   "execution_count": 13,
   "id": "8f53d77e",
   "metadata": {},
   "outputs": [],
   "source": [
    "s = StandardScaler()\n",
    "X_train_s = s.fit_transform(X_train)\n",
    "X_test_s = s.fit_transform(X_test)"
   ]
  },
  {
   "cell_type": "code",
   "execution_count": 14,
   "id": "4c6f5ab9",
   "metadata": {},
   "outputs": [
    {
     "data": {
      "text/plain": [
       "array([[ 0.65669017,  0.56985198, -1.04528346, ...,  0.92852386,\n",
       "        -1.51571947, -1.67745507],\n",
       "       [ 0.65669017,  0.23765885, -1.04528346, ...,  0.29725735,\n",
       "        -0.98871868, -1.67745507],\n",
       "       [-0.81127943, -0.3923626 ,  0.30376746, ..., -0.33400916,\n",
       "        -1.38396928,  0.78721474],\n",
       "       ...,\n",
       "       [-0.81127943, -1.39848776, -1.04528346, ..., -0.96527568,\n",
       "        -0.75815584, -1.67745507],\n",
       "       [-0.07729463,  0.26629619, -1.04528346, ...,  0.92852386,\n",
       "        -0.52759299,  0.54558045],\n",
       "       [ 0.65669017, -0.15180895,  0.30376746, ..., -0.96527568,\n",
       "         0.62522124,  0.25561929]])"
      ]
     },
     "execution_count": 14,
     "metadata": {},
     "output_type": "execute_result"
    }
   ],
   "source": [
    "X_train_s"
   ]
  },
  {
   "cell_type": "code",
   "execution_count": 15,
   "id": "4e0c3b0f",
   "metadata": {},
   "outputs": [
    {
     "data": {
      "text/plain": [
       "array([[ 1.31834832,  0.9022699 ,  1.64321655, ...,  0.85919977,\n",
       "         1.14386966,  1.00514251],\n",
       "       [-0.05160794,  0.26525808, -0.9574297 , ..., -0.26585105,\n",
       "        -0.483793  ,  0.12316771],\n",
       "       [ 0.63337019, -0.50556391,  0.34289343, ..., -1.39090187,\n",
       "         1.10996002,  0.95614391],\n",
       "       ...,\n",
       "       [-0.05160794, -1.21230779,  0.34289343, ..., -1.39090187,\n",
       "         1.04214074,  0.85814671],\n",
       "       [ 0.63337019, -0.42452394,  0.34289343, ..., -0.26585105,\n",
       "         1.1777793 ,  1.0541411 ],\n",
       "       [-0.05160794, -0.01367017,  0.34289343, ...,  0.85919977,\n",
       "         1.10996002,  1.0541411 ]])"
      ]
     },
     "execution_count": 15,
     "metadata": {},
     "output_type": "execute_result"
    }
   ],
   "source": [
    "X_test_s"
   ]
  },
  {
   "cell_type": "code",
   "execution_count": 16,
   "id": "41b6bc5b",
   "metadata": {},
   "outputs": [],
   "source": [
    "lr = LinearRegression()\n",
    "lr.fit(X_train_s, y_train_bc)\n",
    "y_pred_bc = lr.predict(X_test_s)"
   ]
  },
  {
   "cell_type": "code",
   "execution_count": 17,
   "id": "ed3d7322",
   "metadata": {},
   "outputs": [],
   "source": [
    "y_pred = inv_boxcox(y_pred_bc, lam)"
   ]
  },
  {
   "cell_type": "code",
   "execution_count": 18,
   "id": "5bfcbe6d",
   "metadata": {},
   "outputs": [
    {
     "name": "stdout",
     "output_type": "stream",
     "text": [
      "r2 score for test data: 0.8616140641678879\n"
     ]
    }
   ],
   "source": [
    "print(\"r2 score for test data:\",r2_score(Y_test,y_pred))"
   ]
  },
  {
   "cell_type": "markdown",
   "id": "4d0f3994",
   "metadata": {},
   "source": [
    "Checking the R squared, the coefficient of determination, which is the proportion of the variation in the dependent variable that is predictable from the independent variables. The closer is R squared to 1, the better is the fit of the model.\n",
    "\n",
    "The `r2_score` method returns the same statistic, also known as the goodness of fit of the model."
   ]
  }
 ],
 "metadata": {
  "kernelspec": {
   "display_name": "Python 3 (ipykernel)",
   "language": "python",
   "name": "python3"
  },
  "language_info": {
   "codemirror_mode": {
    "name": "ipython",
    "version": 3
   },
   "file_extension": ".py",
   "mimetype": "text/x-python",
   "name": "python",
   "nbconvert_exporter": "python",
   "pygments_lexer": "ipython3",
   "version": "3.8.8"
  }
 },
 "nbformat": 4,
 "nbformat_minor": 5
}
